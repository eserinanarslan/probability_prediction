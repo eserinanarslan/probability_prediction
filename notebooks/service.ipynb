{
 "cells": [
  {
   "cell_type": "code",
   "execution_count": 1,
   "metadata": {},
   "outputs": [],
   "source": [
    "import pandas as pd\n",
    "import numpy as np\n",
    "\n",
    "import sqlite3 as sql\n",
    "\n",
    "from flask import Flask\n",
    "from flask_restful import Resource, Api, reqparse\n",
    "\n",
    "import pandas as pd\n",
    "import json\n",
    "\n",
    "import warnings\n",
    "warnings.filterwarnings(\"ignore\")\n",
    "pd.set_option('display.float_format', '{:.4f}'.format)"
   ]
  },
  {
   "cell_type": "code",
   "execution_count": 2,
   "metadata": {},
   "outputs": [],
   "source": [
    "conn = sql.connect(\"df_all_results.db\")\n",
    "data = pd.read_sql(\"SELECT * FROM df_all_results\", conn).drop(columns=\"index\")\n",
    "data.fillna(\"NA\", inplace=True)\n",
    "\n",
    "data['Random Forest Probability'] = data['Random Forest Probability'].apply(lambda x: '{:.5f}'.format(x))\n",
    "data['Calibrated Random Forest Probability'] = data['Calibrated Random Forest Probability'].apply(lambda x: '{:.5f}'.format(x))\n",
    "data['Naive Bayes'] = data['Naive Bayes'].apply(lambda x: '{:.5f}'.format(x))\n",
    "data['Calibrated Naive Bayes (Isotonic)'] = data['Calibrated Naive Bayes (Isotonic)'].apply(lambda x: '{:.5f}'.format(x))\n",
    "data['Calibrated Naive Bayes (Sigmoid)'] = data['Calibrated Naive Bayes (Sigmoid)'].apply(lambda x: '{:.5f}'.format(x))\n",
    "\n",
    "df = data.to_json(orient=\"records\")\n",
    "df = json.loads(df)"
   ]
  },
  {
   "cell_type": "code",
   "execution_count": 3,
   "metadata": {},
   "outputs": [
    {
     "name": "stdout",
     "output_type": "stream",
     "text": [
      " * Serving Flask app \"__main__\" (lazy loading)\n",
      " * Environment: production\n",
      "   WARNING: This is a development server. Do not use it in a production deployment.\n",
      "   Use a production WSGI server instead.\n",
      " * Debug mode: off\n"
     ]
    },
    {
     "name": "stderr",
     "output_type": "stream",
     "text": [
      " * Running on http://127.0.0.1:5000/ (Press CTRL+C to quit)\n",
      "127.0.0.1 - - [04/May/2021 00:29:35] \"\u001b[37mGET /result/ HTTP/1.1\u001b[0m\" 200 -\n",
      "127.0.0.1 - - [04/May/2021 00:30:09] \"\u001b[37mPOST /result/6f6e6c6a-2081-4e6b-8eb3-4fd89b54b2d7 HTTP/1.1\u001b[0m\" 201 -\n"
     ]
    }
   ],
   "source": [
    "app = Flask(__name__)\n",
    "api = Api(app)\n",
    "\n",
    "class ProbabilityPrediction(Resource):\n",
    "    \n",
    "    def __init__(self):\n",
    "        self.check_uuid=None\n",
    "        self.uuid=None\n",
    "    \n",
    "    def get(self):\n",
    "        return df, 200\n",
    "    \n",
    "    def post(self, uuid):\n",
    "        for id_ in range(len(df)):\n",
    "            if (df[id_][\"uuid\"] == uuid):\n",
    "                return df[id_], 201\n",
    "\n",
    "\n",
    "api.add_resource(ProbabilityPrediction, \"/result\", \"/result/\", \"/result/<uuid>\")\n",
    "\n",
    "if __name__ == '__main__':\n",
    "    app.run()"
   ]
  },
  {
   "cell_type": "code",
   "execution_count": null,
   "metadata": {},
   "outputs": [],
   "source": []
  }
 ],
 "metadata": {
  "kernelspec": {
   "display_name": "Python 3",
   "language": "python",
   "name": "python3"
  },
  "language_info": {
   "codemirror_mode": {
    "name": "ipython",
    "version": 3
   },
   "file_extension": ".py",
   "mimetype": "text/x-python",
   "name": "python",
   "nbconvert_exporter": "python",
   "pygments_lexer": "ipython3",
   "version": "3.8.5"
  }
 },
 "nbformat": 4,
 "nbformat_minor": 4
}

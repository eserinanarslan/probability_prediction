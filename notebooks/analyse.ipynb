{
 "cells": [
  {
   "cell_type": "code",
   "execution_count": 1,
   "metadata": {},
   "outputs": [],
   "source": [
    "import pandas as pd\n",
    "import numpy as np"
   ]
  },
  {
   "cell_type": "code",
   "execution_count": 2,
   "metadata": {},
   "outputs": [],
   "source": [
    "def reduce_mem_usage(df, verbose=True):\n",
    "    numerics = ['int16', 'int32', 'int64', 'float16', 'float32', 'float64']\n",
    "    start_mem = df.memory_usage().sum() / 1024**2    \n",
    "    for col in df.columns:\n",
    "        col_type = df[col].dtypes\n",
    "        if col_type in numerics:\n",
    "            c_min = df[col].min()\n",
    "            c_max = df[col].max()\n",
    "            if str(col_type)[:3] == 'int':\n",
    "                if c_min > np.iinfo(np.int8).min and c_max < np.iinfo(np.int8).max:\n",
    "                    df[col] = df[col].astype(np.int8)\n",
    "                elif c_min > np.iinfo(np.int16).min and c_max < np.iinfo(np.int16).max:\n",
    "                    df[col] = df[col].astype(np.int16)\n",
    "                elif c_min > np.iinfo(np.int32).min and c_max < np.iinfo(np.int32).max:\n",
    "                    df[col] = df[col].astype(np.int32)\n",
    "                elif c_min > np.iinfo(np.int64).min and c_max < np.iinfo(np.int64).max:\n",
    "                    df[col] = df[col].astype(np.int64)  \n",
    "            else:\n",
    "                if c_min > np.finfo(np.float16).min and c_max < np.finfo(np.float16).max:\n",
    "                    df[col] = df[col].astype(np.float16)\n",
    "                elif c_min > np.finfo(np.float32).min and c_max < np.finfo(np.float32).max:\n",
    "                    df[col] = df[col].astype(np.float32)\n",
    "                else:\n",
    "                    df[col] = df[col].astype(np.float64)    \n",
    "    end_mem = df.memory_usage().sum() / 1024**2\n",
    "    if verbose: print('Mem. usage decreased to {:5.2f} Mb ({:.1f}% reduction)'.format(end_mem, 100 * (start_mem - end_mem) / start_mem))\n",
    "    return df"
   ]
  },
  {
   "cell_type": "code",
   "execution_count": 3,
   "metadata": {},
   "outputs": [
    {
     "name": "stdout",
     "output_type": "stream",
     "text": [
      "Mem. usage decreased to 10.68 Mb (66.8% reduction)\n"
     ]
    }
   ],
   "source": [
    "df = pd.read_csv(\"../data/dataset.csv\", delimiter=\";\")\n",
    "df = reduce_mem_usage(df, verbose=True)"
   ]
  },
  {
   "cell_type": "code",
   "execution_count": 4,
   "metadata": {},
   "outputs": [
    {
     "name": "stdout",
     "output_type": "stream",
     "text": [
      "<class 'pandas.core.frame.DataFrame'>\n",
      "RangeIndex: 99976 entries, 0 to 99975\n",
      "Data columns (total 43 columns):\n",
      " #   Column                               Non-Null Count  Dtype  \n",
      "---  ------                               --------------  -----  \n",
      " 0   uuid                                 99976 non-null  object \n",
      " 1   default                              89976 non-null  float16\n",
      " 2   account_amount_added_12_24m          99976 non-null  int32  \n",
      " 3   account_days_in_dc_12_24m            88140 non-null  float16\n",
      " 4   account_days_in_rem_12_24m           88140 non-null  float16\n",
      " 5   account_days_in_term_12_24m          88140 non-null  float16\n",
      " 6   account_incoming_debt_vs_paid_0_24m  40661 non-null  float16\n",
      " 7   account_status                       45603 non-null  float16\n",
      " 8   account_worst_status_0_3m            45603 non-null  float16\n",
      " 9   account_worst_status_12_24m          33215 non-null  float16\n",
      " 10  account_worst_status_3_6m            42274 non-null  float16\n",
      " 11  account_worst_status_6_12m           39626 non-null  float16\n",
      " 12  age                                  99976 non-null  int8   \n",
      " 13  avg_payment_span_0_12m               76140 non-null  float16\n",
      " 14  avg_payment_span_0_3m                50671 non-null  float16\n",
      " 15  merchant_category                    99976 non-null  object \n",
      " 16  merchant_group                       99976 non-null  object \n",
      " 17  has_paid                             99976 non-null  bool   \n",
      " 18  max_paid_inv_0_12m                   99976 non-null  float32\n",
      " 19  max_paid_inv_0_24m                   99976 non-null  float32\n",
      " 20  name_in_email                        99976 non-null  object \n",
      " 21  num_active_div_by_paid_inv_0_12m     77037 non-null  float16\n",
      " 22  num_active_inv                       99976 non-null  int8   \n",
      " 23  num_arch_dc_0_12m                    99976 non-null  int8   \n",
      " 24  num_arch_dc_12_24m                   99976 non-null  int8   \n",
      " 25  num_arch_ok_0_12m                    99976 non-null  int16  \n",
      " 26  num_arch_ok_12_24m                   99976 non-null  int16  \n",
      " 27  num_arch_rem_0_12m                   99976 non-null  int8   \n",
      " 28  num_arch_written_off_0_12m           81898 non-null  float16\n",
      " 29  num_arch_written_off_12_24m          81898 non-null  float16\n",
      " 30  num_unpaid_bills                     99976 non-null  int16  \n",
      " 31  status_last_archived_0_24m           99976 non-null  int8   \n",
      " 32  status_2nd_last_archived_0_24m       99976 non-null  int8   \n",
      " 33  status_3rd_last_archived_0_24m       99976 non-null  int8   \n",
      " 34  status_max_archived_0_6_months       99976 non-null  int8   \n",
      " 35  status_max_archived_0_12_months      99976 non-null  int8   \n",
      " 36  status_max_archived_0_24_months      99976 non-null  int8   \n",
      " 37  recovery_debt                        99976 non-null  int32  \n",
      " 38  sum_capital_paid_account_0_12m       99976 non-null  int32  \n",
      " 39  sum_capital_paid_account_12_24m      99976 non-null  int32  \n",
      " 40  sum_paid_inv_0_12m                   99976 non-null  int32  \n",
      " 41  time_hours                           99976 non-null  float16\n",
      " 42  worst_status_active_inv              30461 non-null  float16\n",
      "dtypes: bool(1), float16(17), float32(2), int16(3), int32(5), int8(11), object(4)\n",
      "memory usage: 10.7+ MB\n"
     ]
    }
   ],
   "source": [
    "df.info()"
   ]
  },
  {
   "cell_type": "code",
   "execution_count": 5,
   "metadata": {},
   "outputs": [
    {
     "data": {
      "text/plain": [
       "Index(['uuid', 'default', 'account_amount_added_12_24m',\n",
       "       'account_days_in_dc_12_24m', 'account_days_in_rem_12_24m',\n",
       "       'account_days_in_term_12_24m', 'account_incoming_debt_vs_paid_0_24m',\n",
       "       'account_status', 'account_worst_status_0_3m',\n",
       "       'account_worst_status_12_24m', 'account_worst_status_3_6m',\n",
       "       'account_worst_status_6_12m', 'age', 'avg_payment_span_0_12m',\n",
       "       'avg_payment_span_0_3m', 'merchant_category', 'merchant_group',\n",
       "       'has_paid', 'max_paid_inv_0_12m', 'max_paid_inv_0_24m', 'name_in_email',\n",
       "       'num_active_div_by_paid_inv_0_12m', 'num_active_inv',\n",
       "       'num_arch_dc_0_12m', 'num_arch_dc_12_24m', 'num_arch_ok_0_12m',\n",
       "       'num_arch_ok_12_24m', 'num_arch_rem_0_12m',\n",
       "       'num_arch_written_off_0_12m', 'num_arch_written_off_12_24m',\n",
       "       'num_unpaid_bills', 'status_last_archived_0_24m',\n",
       "       'status_2nd_last_archived_0_24m', 'status_3rd_last_archived_0_24m',\n",
       "       'status_max_archived_0_6_months', 'status_max_archived_0_12_months',\n",
       "       'status_max_archived_0_24_months', 'recovery_debt',\n",
       "       'sum_capital_paid_account_0_12m', 'sum_capital_paid_account_12_24m',\n",
       "       'sum_paid_inv_0_12m', 'time_hours', 'worst_status_active_inv'],\n",
       "      dtype='object')"
      ]
     },
     "execution_count": 5,
     "metadata": {},
     "output_type": "execute_result"
    }
   ],
   "source": [
    "df.columns"
   ]
  },
  {
   "cell_type": "code",
   "execution_count": 7,
   "metadata": {},
   "outputs": [
    {
     "data": {
      "text/plain": [
       "(99976, 43)"
      ]
     },
     "execution_count": 7,
     "metadata": {},
     "output_type": "execute_result"
    }
   ],
   "source": [
    "df.shape"
   ]
  },
  {
   "cell_type": "code",
   "execution_count": 20,
   "metadata": {},
   "outputs": [
    {
     "name": "stdout",
     "output_type": "stream",
     "text": [
      "account_incoming_debt_vs_paid_0_24m Percent of missing records is 59.33%\n",
      "account_status Percent of missing records is 54.39%\n",
      "account_worst_status_0_3m Percent of missing records is 54.39%\n",
      "account_worst_status_12_24m Percent of missing records is 66.78%\n",
      "account_worst_status_3_6m Percent of missing records is 57.72%\n",
      "account_worst_status_6_12m Percent of missing records is 60.36%\n",
      "worst_status_active_inv Percent of missing records is 69.53%\n"
     ]
    }
   ],
   "source": [
    "for i in df.columns:\n",
    "    if (df[i].isnull().sum()/df.shape[0])*100 > 50:\n",
    "        print(f'{i} Percent of missing records is %.2f%%' %((df[i].isnull().sum()/df.shape[0])*100))"
   ]
  },
  {
   "cell_type": "code",
   "execution_count": 22,
   "metadata": {},
   "outputs": [
    {
     "data": {
      "text/plain": [
       "0.0    81888\n",
       "1.0       10\n",
       "Name: num_arch_written_off_0_12m, dtype: int64"
      ]
     },
     "execution_count": 22,
     "metadata": {},
     "output_type": "execute_result"
    }
   ],
   "source": [
    "df.num_arch_written_off_0_12m.value_counts()"
   ]
  },
  {
   "cell_type": "code",
   "execution_count": 23,
   "metadata": {},
   "outputs": [
    {
     "data": {
      "text/plain": [
       "0.0    81887\n",
       "1.0        9\n",
       "2.0        2\n",
       "Name: num_arch_written_off_12_24m, dtype: int64"
      ]
     },
     "execution_count": 23,
     "metadata": {},
     "output_type": "execute_result"
    }
   ],
   "source": [
    "df.num_arch_written_off_12_24m.value_counts()"
   ]
  },
  {
   "cell_type": "code",
   "execution_count": null,
   "metadata": {},
   "outputs": [],
   "source": []
  }
 ],
 "metadata": {
  "kernelspec": {
   "display_name": "Python 3",
   "language": "python",
   "name": "python3"
  },
  "language_info": {
   "codemirror_mode": {
    "name": "ipython",
    "version": 3
   },
   "file_extension": ".py",
   "mimetype": "text/x-python",
   "name": "python",
   "nbconvert_exporter": "python",
   "pygments_lexer": "ipython3",
   "version": "3.7.9"
  }
 },
 "nbformat": 4,
 "nbformat_minor": 4
}
